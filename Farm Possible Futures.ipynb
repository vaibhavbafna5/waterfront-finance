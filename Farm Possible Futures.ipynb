{
 "cells": [
  {
   "cell_type": "code",
   "execution_count": 5,
   "id": "b04678ca-dded-4630-9f20-e1d9a7f4dfad",
   "metadata": {},
   "outputs": [
    {
     "data": {
      "image/png": "[encoded data removed]",
      "text/plain": [
       "<Figure size 432x288 with 1 Axes>"
      ]
     },
     "metadata": {
      "needs_background": "light"
     },
     "output_type": "display_data"
    }
   ],
   "source": [
    "import random\n",
    "\n",
    "N = 1000000\n",
    "\n",
    "outcomes = []\n",
    "years = []\n",
    "\n",
    "\n",
    "for i in range(0, N):\n",
    "\n",
    "    # REVENUE PICKED BETWEEN $10,000 & $500,000\n",
    "    random_revenue = random.randint(10000, 500000)\n",
    "\n",
    "    \n",
    "    # @CHRISTIAN - ONLY CHANGE VARIABLES IN THIS REGION\n",
    "    # ---------------------------------------------------\n",
    "    # the purpose of this simulation is to understand all of\n",
    "    # the possible futures, this is why i pick a bunch of random incomes\n",
    "    # a million times - so you can understand all of the \n",
    "    # possibilities.\n",
    "    # \n",
    "    # - change the interest rate to understand more punishing scenarios\n",
    "    # - change the revenue & profit percentages to reflect different businesses\n",
    "    # - change the OWED variable to see different payoff periods based on the loan amount\n",
    "    # \n",
    "    # the graph below has revenue on the X-axis and amount of years to be loan free on the Y axis\n",
    "    # ---------------------------------------------------\n",
    "    \n",
    "    # interest rate of 6.8%\n",
    "    INTEREST = 1.068\n",
    "    \n",
    "    # revenue\n",
    "    REVENUE = random_revenue\n",
    "    \n",
    "    # profit percentage (currently 18% of revenue)\n",
    "    PROFIT_PERCENTAGE = 0.18\n",
    "    \n",
    "    # loan amount that needs to be repaid\n",
    "    OWED = 420000\n",
    "    \n",
    "    # ---------------------------------------------------\n",
    "    # ---------------------------------------------------\n",
    "\n",
    "    for x in range(1, 300):\n",
    "\n",
    "        profit = PROFIT_PERCENTAGE * REVENUE # % margins on revenue\n",
    "        OWED = OWED - profit\n",
    "\n",
    "        if OWED <= 0:\n",
    "            outcomes.append(profit)\n",
    "            years.append(x)\n",
    "            break\n",
    "\n",
    "        OWED = OWED * INTEREST\n",
    "        \n",
    "import numpy as np\n",
    "import matplotlib.pyplot as plt\n",
    "\n",
    "plt.scatter(outcomes, years)\n",
    "plt.show()"
   ]
  },
  {
   "cell_type": "code",
   "execution_count": null,
   "id": "285e29c6-4ac5-45e5-ab5f-568c8392d778",
   "metadata": {},
   "outputs": [],
   "source": []
  }
 ],
 "metadata": {
  "kernelspec": {
   "display_name": "Python 3",
   "language": "python",
   "name": "python3"
  },
  "language_info": {
   "codemirror_mode": {
    "name": "ipython",
    "version": 3
   },
   "file_extension": ".py",
   "mimetype": "text/x-python",
   "name": "python",
   "nbconvert_exporter": "python",
   "pygments_lexer": "ipython3",
   "version": "3.9.4"
  }
 },
 "nbformat": 4,
 "nbformat_minor": 5
}
