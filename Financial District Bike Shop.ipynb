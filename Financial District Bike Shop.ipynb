{
 "cells": [
  {
   "cell_type": "code",
   "execution_count": 22,
   "id": "c627974b-4026-4be1-8e5f-1838bf96ae63",
   "metadata": {},
   "outputs": [
    {
     "data": {
      "text/plain": [
       "'en_US.UTF-8'"
      ]
     },
     "execution_count": 22,
     "metadata": {},
     "output_type": "execute_result"
    }
   ],
   "source": [
    "import locale\n",
    "locale.setlocale(locale.LC_ALL, '')  # Use '' for auto, or force e.g. to 'en_US.UTF-8'"
   ]
  },
  {
   "cell_type": "code",
   "execution_count": 32,
   "id": "458f6063-0304-4f97-ab1d-c31126847e9f",
   "metadata": {},
   "outputs": [
    {
     "name": "stdout",
     "output_type": "stream",
     "text": [
      "annual_rent: $72,000\n",
      "operating_expenses: $120,000\n",
      "yearly revenue $350,000\n",
      "yearly profit $17,500\n",
      "amount owed $100,000\n"
     ]
    }
   ],
   "source": [
    "annual_rent = 72000\n",
    "operating_expenses = 120000\n",
    "revenue = 350000\n",
    "profit = 0.05 * revenue\n",
    "\n",
    "owed = 100000\n",
    "interest = 1.06\n",
    "\n",
    "print('annual_rent:', '${:n}'.format(annual_rent))\n",
    "print('operating_expenses:', '${:n}'.format(operating_expenses))\n",
    "print('yearly revenue', '${:n}'.format(revenue))\n",
    "print('yearly profit', '${:n}'.format(profit))\n",
    "print('amount owed', '${:n}'.format(owed))"
   ]
  },
  {
   "cell_type": "code",
   "execution_count": 30,
   "id": "be113523-27f0-4831-9295-b1c71e9afbbf",
   "metadata": {},
   "outputs": [
    {
     "name": "stdout",
     "output_type": "stream",
     "text": [
      "end of year:  1\n",
      "amount owed:  80560.0\n",
      "\n",
      "\n",
      "end of year:  2\n",
      "amount owed:  59953.600000000006\n",
      "\n",
      "\n",
      "end of year:  3\n",
      "amount owed:  38110.816000000006\n",
      "\n",
      "\n",
      "end of year:  4\n",
      "amount owed:  14957.464960000007\n",
      "\n",
      "\n",
      "loan free in year:  5\n"
     ]
    }
   ],
   "source": [
    "for x in range(1, 25):\n",
    "\n",
    "    owed = owed - profit\n",
    "    \n",
    "    if owed <= 0:\n",
    "        print(\"loan free in year: \", x)\n",
    "        break\n",
    "        \n",
    "    owed = owed * interest\n",
    "    print(\"end of year: \", x)\n",
    "    print(\"amount owed: \", owed)\n",
    "    print(\"\\n\")\n",
    "    "
   ]
  },
  {
   "cell_type": "code",
   "execution_count": null,
   "id": "03d0bb15-7ca6-4f84-8b3e-4286607027ac",
   "metadata": {},
   "outputs": [],
   "source": []
  }
 ],
 "metadata": {
  "kernelspec": {
   "display_name": "Python 3",
   "language": "python",
   "name": "python3"
  },
  "language_info": {
   "codemirror_mode": {
    "name": "ipython",
    "version": 3
   },
   "file_extension": ".py",
   "mimetype": "text/x-python",
   "name": "python",
   "nbconvert_exporter": "python",
   "pygments_lexer": "ipython3",
   "version": "3.9.4"
  }
 },
 "nbformat": 4,
 "nbformat_minor": 5
}
