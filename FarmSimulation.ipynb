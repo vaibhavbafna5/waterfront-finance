{
 "cells": [
  {
   "cell_type": "code",
   "execution_count": 1,
   "id": "b04678ca-dded-4630-9f20-e1d9a7f4dfad",
   "metadata": {},
   "outputs": [
    {
     "data": {
      "image/png": "[encoded data removed]",
      "text/plain": [
       "<Figure size 432x288 with 1 Axes>"
      ]
     },
     "metadata": {
      "needs_background": "light"
     },
     "output_type": "display_data"
    }
   ],
   "source": [
    "import random\n",
    "\n",
    "N = 1000000\n",
    "\n",
    "revenues = []\n",
    "years = []\n",
    "\n",
    "\n",
    "for i in range(0, N):\n",
    "\n",
    "    random_revenue = random.randint(10000, 500000)\n",
    "\n",
    "\n",
    "    interest = 1.068 # 6% interest\n",
    "    revenue = random_revenue # 720,000 revenue per year\n",
    "    profit_percentage = 0.18 # 10% profit\n",
    "    owed = 420000 # mortage amount\n",
    "    threshold = 300\n",
    "\n",
    "    for x in range(1, 300):\n",
    "\n",
    "        profit = profit_percentage * revenue # % margins on revenue\n",
    "        owed = owed - profit\n",
    "\n",
    "        if owed <= 0 and x <= threshold:\n",
    "            revenues.append(profit_percentage * revenue)\n",
    "            years.append(x)\n",
    "    #         print(\"loan free in year: \", x)\n",
    "            break\n",
    "\n",
    "        owed = owed * interest\n",
    "        \n",
    "import numpy as np\n",
    "import matplotlib.pyplot as plt\n",
    "\n",
    "plt.scatter(revenues, years)\n",
    "plt.show()"
   ]
  },
  {
   "cell_type": "code",
   "execution_count": null,
   "id": "285e29c6-4ac5-45e5-ab5f-568c8392d778",
   "metadata": {},
   "outputs": [],
   "source": []
  }
 ],
 "metadata": {
  "kernelspec": {
   "display_name": "Python 3",
   "language": "python",
   "name": "python3"
  },
  "language_info": {
   "codemirror_mode": {
    "name": "ipython",
    "version": 3
   },
   "file_extension": ".py",
   "mimetype": "text/x-python",
   "name": "python",
   "nbconvert_exporter": "python",
   "pygments_lexer": "ipython3",
   "version": "3.9.4"
  }
 },
 "nbformat": 4,
 "nbformat_minor": 5
}
